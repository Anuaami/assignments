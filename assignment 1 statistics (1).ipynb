{
 "cells": [
  {
   "cell_type": "code",
   "execution_count": 106,
   "id": "0de2e637",
   "metadata": {},
   "outputs": [
    {
     "name": "stdout",
     "output_type": "stream",
     "text": [
      "Mean =  17.1\n",
      "Median =  17.5\n"
     ]
    }
   ],
   "source": [
    "#1.  Given the dataset data = [12, 15, 14, 10, 18, 20, 22, 24, 17, 19], calculate the Mean, \n",
    "#Median, and Mode using both Excel/Google Sheets/ Python. \n",
    "\n",
    "import math as m\n",
    "import numpy as np\n",
    "import pandas as pd\n",
    "import statistics as stat\n",
    "from scipy.stats import chisquare\n",
    "from scipy import stats\n",
    "from statsmodels.stats.weightstats import ztest\n",
    "from scipy.stats import ttest_ind\n",
    "\n",
    "data1=[12, 15, 14, 10, 18, 20, 22, 24, 17, 19]\n",
    "\n",
    "#mode = stats.mode(data1)\n",
    "print(\"Mean = \",np.mean(data1))\n",
    "print(\"Median = \",np.median(data1))\n",
    "#print(\"Mode=\",mode.mode[0])\n"
   ]
  },
  {
   "cell_type": "code",
   "execution_count": 64,
   "id": "c5b5065f",
   "metadata": {},
   "outputs": [
    {
     "name": "stdout",
     "output_type": "stream",
     "text": [
      "Q1 (25th percentile): 14.25\n",
      "Q2 (50th percentile, : 17.5\n",
      "Q3 (75th percentile): 19.75\n"
     ]
    }
   ],
   "source": [
    "#2Compute the 25th percentile (Q1), 50th percentile (Q2), and 75th percentile (Q3) \n",
    "#for the dataset using both tools. \n",
    "import numpy as np\n",
    "\n",
    "data1 = [12, 15, 14, 10, 18, 20, 22, 24, 17, 19]\n",
    "sorted_data=sorted(data1)\n",
    "sorted_data\n",
    "\n",
    "\n",
    "# Calculate percentiles\n",
    "Q1 = np.percentile(sorted_data, 25)\n",
    "Q2 = np.percentile(sorted_data, 50)  \n",
    "Q3 = np.percentile(sorted_data, 75)\n",
    "\n",
    "print(\"Q1 (25th percentile):\", Q1)\n",
    "print(\"Q2 (50th percentile, :\", Q2)\n",
    "print(\"Q3 (75th percentile):\", Q3)"
   ]
  },
  {
   "cell_type": "code",
   "execution_count": 65,
   "id": "93a9214d",
   "metadata": {},
   "outputs": [
    {
     "name": "stdout",
     "output_type": "stream",
     "text": [
      "Q1 (25th percentile): 14.25\n",
      "Q2 (50th percentile, : 17.5\n",
      "Q3 (75th percentile): 19.75\n",
      "IQR   = 5\n"
     ]
    }
   ],
   "source": [
    "#Q3 . Find the IQR for the given dataset and explain its significance.\n",
    "sorted_data=sorted(data1)\n",
    "#Sorted Data: [10, 12, 14, 15, 17, 18, 19, 20, 22, 24]\n",
    "print(\"Q1 (25th percentile):\", Q1)\n",
    "print(\"Q2 (50th percentile, :\", Q2)\n",
    "print(\"Q3 (75th percentile):\", Q3)\n",
    "IQR=int(Q3-Q1)\n",
    "print(\"IQR   =\",IQR)"
   ]
  },
  {
   "cell_type": "markdown",
   "id": "db8f77cb",
   "metadata": {},
   "source": [
    "SIGNIFICANCE:\n",
    "The Interquartile Range (IQR) measures the spread of the middle 50% of the data. It is less affected by outliers or extreme values compared to the range, which can be heavily influenced by those outliers. The IQR gives us an idea of how concentrated or spread out the majority of the data points are.\n"
   ]
  },
  {
   "cell_type": "code",
   "execution_count": 79,
   "id": "a8d650d3",
   "metadata": {},
   "outputs": [
    {
     "name": "stdout",
     "output_type": "stream",
     "text": [
      "Minimum value =  10\n",
      "Maximum value =  24\n"
     ]
    }
   ],
   "source": [
    "#Q4.Identify the minimum and maximum values from the dataset. \n",
    "Min_value=np.min(sorted_data)\n",
    "Max_value=np.max(sorted_data)\n",
    "print('Minimum value = ',np.min(sorted_data))\n",
    "print('Maximum value = ',np.max(sorted_data))"
   ]
  },
  {
   "cell_type": "code",
   "execution_count": 74,
   "id": "6f12f6e6",
   "metadata": {},
   "outputs": [
    {
     "name": "stdout",
     "output_type": "stream",
     "text": [
      "LOWER BOUND =  6.75\n",
      "UPPER BOUND =  27.25\n",
      "no outliers\n"
     ]
    }
   ],
   "source": [
    "#Q5  Compute the Lower Bound and Upper Bound. and● Identify any outliers in the dataset. \n",
    "#lower_Bound=Q1-(1.5*IQR    #=14−1.5×6=14−9=5\n",
    "\n",
    "l_bound=Q1-IQR*1.5\n",
    "u_bound=Q3+IQR*1.5\n",
    "print(\"LOWER BOUND = \",l_bound)\n",
    "print(\"UPPER BOUND = \",u_bound)\n",
    "\n",
    "outliers = []\n",
    "for i in data1:\n",
    "    if i < l_bound or i > u_bound:\n",
    "        outliers.append(i)\n",
    "       # print(outliers)   \n",
    "if not outliers:\n",
    "    print(\"no outliers\")\n",
    "        "
   ]
  },
  {
   "cell_type": "code",
   "execution_count": 80,
   "id": "5ab3d855",
   "metadata": {},
   "outputs": [
    {
     "name": "stdout",
     "output_type": "stream",
     "text": [
      "Minimum value =  10\n",
      "Maximum value =  24\n",
      "Range = 14\n",
      "STD  = 4.182104733265297\n",
      "Variance = 17.490000000000002\n"
     ]
    }
   ],
   "source": [
    "#Q6  Compute the Range, Variance, and Standard Deviation using both Excel/Google Sheets/Python. [10, 12, 14, 15, 17, 18, 19, 20, 22, 24]\n",
    "#Max_value\n",
    "\n",
    "Min_value=np.min(sorted_data)\n",
    "Max_value=np.max(sorted_data)\n",
    "print('Minimum value = ',np.min(sorted_data))\n",
    "print('Maximum value = ',np.max(sorted_data))\n",
    "R=Max_value-Min_value\n",
    "print(\"Range =\",R)\n",
    "sd=np.std(sorted_data)\n",
    "print(\"STD  =\",sd)\n",
    "var=np.var(sorted_data)\n",
    "print(\"Variance =\",var)\n"
   ]
  },
  {
   "cell_type": "code",
   "execution_count": 81,
   "id": "a1aa6e15",
   "metadata": {},
   "outputs": [
    {
     "name": "stdout",
     "output_type": "stream",
     "text": [
      "Mean: 17.1\n",
      "Standard Deviation: 4.182104733265297\n",
      "Z-scores: [-1.6977097544987771, -1.2194816546399667, -0.7412535547811564, -0.5021395048517512, -0.02391140499294086, 0.21520264493646432, 0.4543166948658695, 0.6934307447952747, 1.171658844654085, 1.6498869445128954]\n"
     ]
    }
   ],
   "source": [
    "#Q7 Compute the Z-scores for each value in the dataset and explain its significance in data standardization.\n",
    "\n",
    "z_scores = [(x - mean_data) / sd for x in sorted_data]\n",
    "\n",
    "# Output the results\n",
    "print(\"Mean:\", mean_data)\n",
    "print(\"Standard Deviation:\",sd)\n",
    "print(\"Z-scores:\", z_scores)"
   ]
  },
  {
   "cell_type": "code",
   "execution_count": 83,
   "id": "9a3d3c4f",
   "metadata": {},
   "outputs": [
    {
     "name": "stdout",
     "output_type": "stream",
     "text": [
      "Mean: 17.1\n",
      "Standard Deviation: 4.182104733265297\n",
      "Z-scores: [-1.6977097544987771, -1.2194816546399667, -0.7412535547811564, -0.5021395048517512, -0.02391140499294086, 0.21520264493646432, 0.4543166948658695, 0.6934307447952747, 1.171658844654085, 1.6498869445128954]\n"
     ]
    }
   ],
   "source": [
    "z_scores = [(x - mean_data) / sd for x in sorted_data]\n",
    "\n",
    "# Output the results\n",
    "print(\"Mean:\", mean_data)\n",
    "print(\"Standard Deviation:\",sd)\n",
    "print(\"Z-scores:\", z_scores)"
   ]
  },
  {
   "cell_type": "code",
   "execution_count": 87,
   "id": "0c0d711e",
   "metadata": {},
   "outputs": [],
   "source": [
    "#Q8 Given two datasets x = [10, 20, 30, 40, 50] and y = [5, 10, 15, 20, 25], compute the Pearson correlation coefficient.\n",
    "#Ans  https://docs.google.com/spreadsheets/d/1jKKigQC65DK0PNP6mWlKn2Qwi_ZY7Nvjr8RXBt28ds8/edit?gid=0#gid=0"
   ]
  },
  {
   "cell_type": "code",
   "execution_count": 108,
   "id": "762d11d5",
   "metadata": {},
   "outputs": [
    {
     "name": "stdout",
     "output_type": "stream",
     "text": [
      "Z-test statistic:  6.324555320336759\n"
     ]
    }
   ],
   "source": [
    "#Q15 Given a sample mean of 25, population mean of 22, population standard deviation of 3, and sample size of 40, compute the Z-test statistic and interpret the results. \n",
    "import math\n",
    "sample_mean = 25\n",
    "population_mean = 22\n",
    "population_std_dev = 3\n",
    "sample_size = 40\n",
    "# Calculate the standard error\n",
    "#sqr_of sample=math.sqrt(sample_size)\n",
    "#standard_error = population_std_dev /sqr_of sample\n",
    "\n",
    "# Calculate the Z-test statistic\n",
    "#Diff=sample_mean - population_mean\n",
    "#z_statistic = Diff / standard_error\n",
    "\n",
    "#print(f\"The Z-test statistic is: \",z_statistic)\n",
    "\n",
    "z = (sample_mean - population_mean) / (population_std_dev / math.sqrt(sample_size))\n",
    "\n",
    "print(f\"Z-test statistic: \",z)"
   ]
  },
  {
   "cell_type": "code",
   "execution_count": 4,
   "id": "006c59be",
   "metadata": {},
   "outputs": [
    {
     "name": "stdout",
     "output_type": "stream",
     "text": [
      "Null Hypothesis Rejected\n"
     ]
    }
   ],
   "source": [
    "#Q16 Using a standard normal table, find the p-value corresponding to the Z-test statistic computed in the previous question and determine whether to reject the null \n",
    "#hypothesis at α = 0.05. \n",
    "#as per table p value is 0.0000000000000002\n",
    "p_val=0.0000000000000002\n",
    "\n",
    "#ztest()\n",
    "\n",
    "if p_val<0.05:\n",
    "    print(\"Null Hypothesis Rejected\")\n",
    "else:\n",
    "    print(\"Null Hypothesis Accepted\")"
   ]
  },
  {
   "cell_type": "code",
   "execution_count": 5,
   "id": "53e747f5",
   "metadata": {},
   "outputs": [
    {
     "name": "stdout",
     "output_type": "stream",
     "text": [
      "Null Hypothesis Accepted\n"
     ]
    }
   ],
   "source": [
    "#Q17 Given a sample of data = [45, 50, 55, 60, 62, 48, 52], test whether the mean is significantly different from 50 using a one-sample t-test. \n",
    "\n",
    "data1 = [45, 50, 55, 60, 62, 48, 52]\n",
    "\n",
    "z_stat2,p_val2=ztest(data1,value=50)\n",
    "\n",
    "if p_val2<0.05:\n",
    "    print(\"Null Hypothesis Rejected\")\n",
    "else:\n",
    "    print(\"Null Hypothesis Accepted\")"
   ]
  },
  {
   "cell_type": "code",
   "execution_count": 49,
   "id": "aa932bd5",
   "metadata": {},
   "outputs": [
    {
     "name": "stdout",
     "output_type": "stream",
     "text": [
      "P VALUE  =  0.0010091081285779936\n",
      "Null Hypothesis Rejected\n"
     ]
    }
   ],
   "source": [
    "#Q18 Independent Sample T-test: \n",
    "#● Two groups of students took a math test. Their scores are: \n",
    "#○ Group 1: [85, 90, 88, 92, 86] \n",
    "#○ Group 2: [78, 75, 80, 83, 79] \n",
    "#● Perform an independent sample t-test to determine if there is a significant difference between the means.\n",
    "\n",
    "Group1= [85, 90, 88, 92, 86] \n",
    "Group2= [78, 75, 80, 83, 79]\n",
    "\n",
    "\n",
    "#t_stat3,p_val3=ttest_ind(Group1,Group2)\n",
    "t_stat3,p_val3= stats.ttest_ind(Group1,Group2)\n",
    "print(\"P VALUE  = \",p_val3)\n",
    "\n",
    "if p_val3<0.05:\n",
    "    print(\"Null Hypothesis Rejected\")\n",
    "else:\n",
    "    print(\"Null Hypothesis Accepted\")\n"
   ]
  },
  {
   "cell_type": "code",
   "execution_count": 61,
   "id": "6dd21a1a",
   "metadata": {},
   "outputs": [
    {
     "name": "stdout",
     "output_type": "stream",
     "text": [
      "Variance of group 1 = 6.56\n",
      "Variance of group 2 = 6.8\n",
      "t-statistic         =  5.034016027514163\n",
      "digree of freedom   =  8\n",
      "P VALUE             =  0.0010091081285779936\n",
      "Critical T VALUE    =  2.3060041350333704\n",
      "Null Hypothesis Rejected\n"
     ]
    }
   ],
   "source": [
    "#Q19 Using a t-table, find the critical t-value for α = 0.05 with degrees of freedom appropriate for question 18 and interpret the results. \n",
    "n1=len(Group1)\n",
    "n2=len(Group2)\n",
    "mean_n1=np.mean(Group1)\n",
    "mean_n2=np.mean(Group2)\n",
    "df=n1+n2-2\n",
    "v1=np.var(Group1)\n",
    "v2=np.var(Group2)\n",
    "alpha = 0.05\n",
    "#print(\"mean of group1\",mean_n1)\n",
    "#z_stat_g1,p_val_g1=ztest(Group1,value=mean_n1)\n",
    "#z_statG2,p_valG2=ztest(Group2,value=mean_n2)\n",
    "print(\"Variance of group 1 =\",v1)\n",
    "print(\"Variance of group 2 =\",v2)\n",
    "print(\"t-statistic         = \",t_stat3)\n",
    "print(\"digree of freedom   = \",df)\n",
    "print(\"P VALUE             = \",p_val3)\n",
    "t_critical = stats.t.ppf(1 - alpha / 2,df)\n",
    "\n",
    "print(\"Critical T VALUE    = \",t_critical)\n",
    "\n",
    "\n",
    "if t_stat3>t_critical:\n",
    "    print(\"Null Hypothesis Rejected\")\n",
    "else:\n",
    "    print(\"Null Hypothesis Accepted\")"
   ]
  },
  {
   "cell_type": "code",
   "execution_count": null,
   "id": "f6f7b8db",
   "metadata": {},
   "outputs": [],
   "source": []
  }
 ],
 "metadata": {
  "kernelspec": {
   "display_name": "Python 3 (ipykernel)",
   "language": "python",
   "name": "python3"
  },
  "language_info": {
   "codemirror_mode": {
    "name": "ipython",
    "version": 3
   },
   "file_extension": ".py",
   "mimetype": "text/x-python",
   "name": "python",
   "nbconvert_exporter": "python",
   "pygments_lexer": "ipython3",
   "version": "3.9.13"
  }
 },
 "nbformat": 4,
 "nbformat_minor": 5
}
