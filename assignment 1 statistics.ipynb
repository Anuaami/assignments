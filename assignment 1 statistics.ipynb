{
 "cells": [
  {
   "cell_type": "code",
   "execution_count": 2,
   "id": "0de2e637",
   "metadata": {},
   "outputs": [
    {
     "name": "stdout",
     "output_type": "stream",
     "text": [
      "17.1\n"
     ]
    }
   ],
   "source": [
    "#1.  Given the dataset data = [12, 15, 14, 10, 18, 20, 22, 24, 17, 19], calculate the Mean, \n",
    "#Median, and Mode using both Excel/Google Sheets/ Python. \n",
    "\n",
    "import math as m\n",
    "import numpy as np\n",
    "import pandas as pd\n",
    "import statistics as stat\n",
    "from statsmodels.stats.weightstats import ztest\n",
    "\n",
    "data1=[12, 15, 14, 10, 18, 20, 22, 24, 17, 19]\n",
    "mean_data=np.mean(data1)\n",
    "\n",
    "print(mean_data)\n"
   ]
  },
  {
   "cell_type": "code",
   "execution_count": 65,
   "id": "c5b5065f",
   "metadata": {},
   "outputs": [
    {
     "name": "stdout",
     "output_type": "stream",
     "text": [
      "Q1 (25th percentile): 14.25\n",
      "Q2 (50th percentile, : 17.5\n",
      "Q3 (75th percentile): 19.75\n"
     ]
    }
   ],
   "source": [
    "#2Compute the 25th percentile (Q1), 50th percentile (Q2), and 75th percentile (Q3) \n",
    "#for the dataset using both tools. \n",
    "import numpy as np\n",
    "\n",
    "data1 = [12, 15, 14, 10, 18, 20, 22, 24, 17, 19]\n",
    "sorted_data=sorted(data1)\n",
    "sorted_data\n",
    "\n",
    "\n",
    "# Calculate percentiles\n",
    "Q1 = np.percentile(sorted_data, 25)\n",
    "Q2 = np.percentile(sorted_data, 50)  \n",
    "Q3 = np.percentile(sorted_data, 75)\n",
    "\n",
    "print(\"Q1 (25th percentile):\", Q1)\n",
    "print(\"Q2 (50th percentile, :\", Q2)\n",
    "print(\"Q3 (75th percentile):\", Q3)"
   ]
  },
  {
   "cell_type": "code",
   "execution_count": 39,
   "id": "93a9214d",
   "metadata": {},
   "outputs": [
    {
     "name": "stdout",
     "output_type": "stream",
     "text": [
      "Q1 (25th percentile): 14.25\n"
     ]
    }
   ],
   "source": [
    "#Q3 . Find the IQR for the given dataset and explain its significance.\n",
    "sorted_data=sorted(data1)\n",
    "#Sorted Data: [10, 12, 14, 15, 17, 18, 19, 20, 22, 24]\n",
    "print(\"Q1 (25th percentile):\", Q1)"
   ]
  },
  {
   "cell_type": "code",
   "execution_count": 12,
   "id": "f0d2bb5e",
   "metadata": {},
   "outputs": [
    {
     "data": {
      "text/plain": [
       "[10, 12, 14, 15, 17, 18, 19, 20, 22, 24]"
      ]
     },
     "execution_count": 12,
     "metadata": {},
     "output_type": "execute_result"
    }
   ],
   "source": [
    "sorted_data"
   ]
  },
  {
   "cell_type": "code",
   "execution_count": 13,
   "id": "b7f7e576",
   "metadata": {},
   "outputs": [],
   "source": [
    "Q2=np.median(sorted_data)"
   ]
  },
  {
   "cell_type": "code",
   "execution_count": 14,
   "id": "b7d68144",
   "metadata": {},
   "outputs": [
    {
     "data": {
      "text/plain": [
       "17.5"
      ]
     },
     "execution_count": 14,
     "metadata": {},
     "output_type": "execute_result"
    }
   ],
   "source": [
    "Q2"
   ]
  },
  {
   "cell_type": "code",
   "execution_count": 23,
   "id": "e4dcf183",
   "metadata": {},
   "outputs": [],
   "source": [
    "IQR=int(Q3-Q1)"
   ]
  },
  {
   "cell_type": "code",
   "execution_count": 16,
   "id": "1951f0e3",
   "metadata": {},
   "outputs": [
    {
     "data": {
      "text/plain": [
       "5"
      ]
     },
     "execution_count": 16,
     "metadata": {},
     "output_type": "execute_result"
    }
   ],
   "source": [
    "IQR"
   ]
  },
  {
   "cell_type": "markdown",
   "id": "db8f77cb",
   "metadata": {},
   "source": [
    "SIGNIFICANCE:\n",
    "The Interquartile Range (IQR) measures the spread of the middle 50% of the data. It is less affected by outliers or extreme values compared to the range, which can be heavily influenced by those outliers. The IQR gives us an idea of how concentrated or spread out the majority of the data points are.\n"
   ]
  },
  {
   "cell_type": "code",
   "execution_count": 32,
   "id": "a8d650d3",
   "metadata": {},
   "outputs": [
    {
     "name": "stdout",
     "output_type": "stream",
     "text": [
      "Minimum value =  10\n",
      "Maximum value =  24\n"
     ]
    }
   ],
   "source": [
    "#Q4.Identify the minimum and maximum values from the dataset. \n",
    "Min_value=np.min(sorted_data)\n",
    "Max_value=np.max(sorted_data)\n",
    "print('Minimum value = ',np.min(sorted_data))\n",
    "print('Maximum value = ',np.max(sorted_data))"
   ]
  },
  {
   "cell_type": "code",
   "execution_count": 74,
   "id": "6f12f6e6",
   "metadata": {},
   "outputs": [
    {
     "name": "stdout",
     "output_type": "stream",
     "text": [
      "LOWER BOUND =  6.75\n",
      "UPPER BOUND =  27.25\n",
      "no outliers\n"
     ]
    }
   ],
   "source": [
    "#Q5  Compute the Lower Bound and Upper Bound. and● Identify any outliers in the dataset. \n",
    "#lower_Bound=Q1-(1.5*IQR    #=14−1.5×6=14−9=5\n",
    "\n",
    "l_bound=Q1-IQR*1.5\n",
    "u_bound=Q3+IQR*1.5\n",
    "print(\"LOWER BOUND = \",l_bound)\n",
    "print(\"UPPER BOUND = \",u_bound)\n",
    "\n",
    "outliers = []\n",
    "for i in data1:\n",
    "    if i < l_bound or i > u_bound:\n",
    "        outliers.append(i)\n",
    "       # print(outliers)   \n",
    "if not outliers:\n",
    "    print(\"no outliers\")\n",
    "        "
   ]
  },
  {
   "cell_type": "code",
   "execution_count": 79,
   "id": "5ab3d855",
   "metadata": {},
   "outputs": [
    {
     "name": "stdout",
     "output_type": "stream",
     "text": [
      "Range = 14\n",
      "STD  = 4.182104733265297\n",
      "Variance = 17.490000000000002\n"
     ]
    }
   ],
   "source": [
    "#Q6  Compute the Range, Variance, and Standard Deviation using both Excel/Google Sheets/Python. [10, 12, 14, 15, 17, 18, 19, 20, 22, 24]\n",
    "Max_value\n",
    "R=Max_value-Min_value\n",
    "print(\"Range =\",R)\n",
    "sd=np.std(sorted_data)\n",
    "print(\"STD  =\",sd)\n",
    "var=np.var(sorted_data)\n",
    "print(\"Variance =\",var)\n"
   ]
  },
  {
   "cell_type": "code",
   "execution_count": 81,
   "id": "a1aa6e15",
   "metadata": {},
   "outputs": [],
   "source": [
    "#Q7 Compute the Z-scores for each value in the dataset and explain its significance in data standardization.\n",
    "import statistics as stat\n",
    "from statsmodels.stats.weightstats import ztest"
   ]
  },
  {
   "cell_type": "code",
   "execution_count": 83,
   "id": "9a3d3c4f",
   "metadata": {},
   "outputs": [
    {
     "name": "stdout",
     "output_type": "stream",
     "text": [
      "Mean: 17.1\n",
      "Standard Deviation: 4.182104733265297\n",
      "Z-scores: [-1.6977097544987771, -1.2194816546399667, -0.7412535547811564, -0.5021395048517512, -0.02391140499294086, 0.21520264493646432, 0.4543166948658695, 0.6934307447952747, 1.171658844654085, 1.6498869445128954]\n"
     ]
    }
   ],
   "source": [
    "z_scores = [(x - mean_data) / sd for x in sorted_data]\n",
    "\n",
    "# Output the results\n",
    "print(\"Mean:\", mean_data)\n",
    "print(\"Standard Deviation:\",sd)\n",
    "print(\"Z-scores:\", z_scores)"
   ]
  },
  {
   "cell_type": "code",
   "execution_count": 84,
   "id": "0c0d711e",
   "metadata": {},
   "outputs": [],
   "source": [
    "#Q8 Given two datasets x = [10, 20, 30, 40, 50] and y = [5, 10, 15, 20, 25], compute the Pearson correlation coefficient.\n",
    "#Ans  https://docs.google.com/spreadsheets/d/1jKKigQC65DK0PNP6mWlKn2Qwi_ZY7Nvjr8RXBt28ds8/edit?gid=0#gid=0"
   ]
  },
  {
   "cell_type": "code",
   "execution_count": 5,
   "id": "762d11d5",
   "metadata": {},
   "outputs": [
    {
     "name": "stdout",
     "output_type": "stream",
     "text": [
      "The Z-test statistic is:  6.324555320336759\n"
     ]
    }
   ],
   "source": [
    "#Q15 Given a sample mean of 25, population mean of 22, population standard deviation of 3, and sample size of 40, compute the Z-test statistic and interpret the results. \n",
    "\n",
    "sample_mean = 25\n",
    "population_mean = 22\n",
    "population_std_dev = 3\n",
    "sample_size = 40\n",
    "# Calculate the standard error\n",
    "standard_error = population_std_dev / math.sqrt(sample_size)\n",
    "\n",
    "# Calculate the Z-test statistic\n",
    "z_statistic = (sample_mean - population_mean) / standard_error\n",
    "\n",
    "print(f\"The Z-test statistic is: \",z_statistic)\n",
    "\n"
   ]
  },
  {
   "cell_type": "code",
   "execution_count": 1,
   "id": "006c59be",
   "metadata": {},
   "outputs": [
    {
     "ename": "SyntaxError",
     "evalue": "invalid syntax (1159478604.py, line 2)",
     "output_type": "error",
     "traceback": [
      "\u001b[1;36m  File \u001b[1;32m\"C:\\Users\\anupa\\AppData\\Local\\Temp\\ipykernel_13860\\1159478604.py\"\u001b[1;36m, line \u001b[1;32m2\u001b[0m\n\u001b[1;33m    Using a standard normal table, find the p-value corresponding to the Z-test statistic\u001b[0m\n\u001b[1;37m          ^\u001b[0m\n\u001b[1;31mSyntaxError\u001b[0m\u001b[1;31m:\u001b[0m invalid syntax\n"
     ]
    }
   ],
   "source": [
    "#You said:\n",
    "Using a standard normal table, find the p-value corresponding to the Z-test statistic \n",
    "computed in the previous question and determine whether to reject the null \n",
    "hypothesis at α = 0.05. \n",
    "as per table p value is \n",
    "\n",
    "#ztest()\n",
    "\n",
    "if p_val3<0.05:\n",
    "    print(\"Null Hypothesis Rejected\")\n",
    "else:\n",
    "    print(\"Null Hypothesis Accepted\")"
   ]
  },
  {
   "cell_type": "code",
   "execution_count": null,
   "id": "cae98c19",
   "metadata": {},
   "outputs": [],
   "source": []
  }
 ],
 "metadata": {
  "kernelspec": {
   "display_name": "Python 3 (ipykernel)",
   "language": "python",
   "name": "python3"
  },
  "language_info": {
   "codemirror_mode": {
    "name": "ipython",
    "version": 3
   },
   "file_extension": ".py",
   "mimetype": "text/x-python",
   "name": "python",
   "nbconvert_exporter": "python",
   "pygments_lexer": "ipython3",
   "version": "3.9.13"
  }
 },
 "nbformat": 4,
 "nbformat_minor": 5
}
